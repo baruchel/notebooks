{
 "cells": [
  {
   "cell_type": "markdown",
   "metadata": {},
   "source": [
    "# Analyse numérique et traitement du son.\n",
    "\n",
    "L'analyse numérique se prête particulièrement bien au traitement du son, soit en synthèse (fabrication d'un son), soit en analyse (manipulation et décomposition de sons d'origines variées). On utilisera principalement des tableaux `Numpy` pour manipuler les données sonores."
   ]
  },
  {
   "cell_type": "markdown",
   "metadata": {},
   "source": [
    "## Première partie. Synthèse sonore.\n",
    "\n",
    "Depuis les débuts de la synthèse sonore (initialement à l'aide d'instruments analogiques), il est d'usage de synthétiser des sons à l'aide de signaux élémentaires dont on contrôle divers paramètres :\n",
    "\n",
    "  * la fréquence du signal élémentaire qui donne la hauteur de la note (ex. : 440Hz)\n",
    "  * la forme de la courbe élémentaire (sinusoïdale, carrée, triangulaire, dents de scie, etc.)\n",
    "  * l'enveloppe du son (qui modifie l'intensité du signal dans le temps)\n",
    "\n",
    "Plusieurs oscillateurs peuvent être combinés pour obtenir des timbres plus complexes.\n",
    "\n",
    "![Formes d'onde](https://upload.wikimedia.org/wikipedia/commons/thumb/2/21/Formes_d%27onde.png/610px-Formes_d%27onde.png)\n",
    "\n",
    "De nombreux synthétiseurs fonctionnent sur ce principe ; l'un des plus connus a été le [Minimoog](https://fr.wikipedia.org/wiki/Minimoog) en 1970 :\n",
    "\n",
    "![MiniMOOG](https://upload.wikimedia.org/wikipedia/commons/2/22/Minimoog.JPG)"
   ]
  },
  {
   "cell_type": "markdown",
   "metadata": {},
   "source": [
    "### Synthèse d'un son élémentaire\n",
    "\n",
    "Il est d'usage de travailler à une fréquence d'échantillonage de 44100 Hz, ce qui signifie que 44100 données sont nécessaires pour décrire le son sur une seconde. On admettra que cet usage permet de reproduire des sons jusqu'à la fréquence moitié moindre de 22050 Hz ([théorème d'échantillonnage de Nyquist-Shannon](https://fr.wikipedia.org/wiki/Th%C3%A9or%C3%A8me_d%27%C3%A9chantillonnage_de_Nyquist-Shannon)).\n",
    "\n"
   ]
  },
  {
   "cell_type": "code",
   "execution_count": 44,
   "metadata": {
    "collapsed": false
   },
   "outputs": [],
   "source": [
    "import time\n",
    "import numpy as np\n",
    "import scipy.io.wavfile\n",
    "\n",
    "mysoundfile=\"/home/thomas/Bureau/test.wav\"\n",
    "#mysoundfile = r\"C:\\Users\\Emmanuel Chastel\\Desktop\\test.wav\"\n",
    "\n",
    "# Code permettant d'enregistrer et de jouer un son\n",
    "try:\n",
    "    import winsound   # sous Windows\n",
    "    def play_wav(a, fr=44100):\n",
    "        scipy.io.wavfile.write(mysoundfile, fr, (32657*a).astype(np.int16))\n",
    "        winsound.PlaySound(mysoundfile, winsound.SND_FILENAME)\n",
    "except:\n",
    "    import subprocess # Sous Linux\n",
    "    def play_wav(a, fr=44100):\n",
    "        scipy.io.wavfile.write(mysoundfile, fr, (32657*a).astype(np.int16))\n",
    "        subprocess.call([\"aplay\", mysoundfile]) # remplacer par \"afplay\" pour Mac OS"
   ]
  },
  {
   "cell_type": "markdown",
   "metadata": {},
   "source": [
    "#### Synthèse d'un bruit simple\n",
    "\n",
    "La synthèse d'un bruit « blanc » se fait de façon très simple :"
   ]
  },
  {
   "cell_type": "code",
   "execution_count": 45,
   "metadata": {
    "collapsed": false
   },
   "outputs": [],
   "source": [
    "import numpy.random\n",
    "\n",
    "framerate = 44100\n",
    "dur = 3\n",
    "\n",
    "data = numpy.random.rand(dur*framerate) - .5\n",
    "\n",
    "play_wav(data)"
   ]
  },
  {
   "cell_type": "markdown",
   "metadata": {},
   "source": [
    "#### Synthèse simple à l'aide d'un oscillateur\n",
    "\n",
    "On commencera par créer un son de 5 secondes jouant la hauteur de référence, la note La à 440 Hz."
   ]
  },
  {
   "cell_type": "code",
   "execution_count": 2,
   "metadata": {
    "collapsed": false
   },
   "outputs": [],
   "source": [
    "framerate = 44100\n",
    "freq = 440\n",
    "dur = 3\n",
    "\n",
    "data = np.array([ np.sin(2.0 * np.pi * freq * t / framerate) for t in range(dur*framerate)])\n",
    "play_wav(data)"
   ]
  },
  {
   "cell_type": "markdown",
   "metadata": {},
   "source": [
    "On joue ici trois notes successives : Do, Mi, Sol sur une durée de cinq secondes."
   ]
  },
  {
   "cell_type": "code",
   "execution_count": 20,
   "metadata": {
    "collapsed": false
   },
   "outputs": [],
   "source": [
    "framerate = 44100\n",
    "def note(freq, dur):\n",
    "    global framerate\n",
    "    return np.array([ np.sin(2.0 * np.pi * freq * t / framerate) for t in range(int(dur*framerate))])\n",
    "\n",
    "data = np.concatenate( (note(261.63, 1), note(329.63, 1), note(392, 1)) )\n",
    "play_wav(data)"
   ]
  },
  {
   "cell_type": "markdown",
   "metadata": {},
   "source": [
    "On compare les quatre formes de courbes sur le La de référence (440 Hz). L'ordre retenu sera (courbe sinusoïdale, courbe triangulaire, courbe en dents de scie, courbe carrée)."
   ]
  },
  {
   "cell_type": "code",
   "execution_count": 22,
   "metadata": {
    "collapsed": false
   },
   "outputs": [],
   "source": [
    "framerate = 44100\n",
    "freq = 440\n",
    "dur = 2\n",
    "\n",
    "x = np.array( [ freq*t/framerate for t in range(int(dur*framerate)) ] )\n",
    "\n",
    "# sinusoïdale\n",
    "data1 = np.sin(2.0 * np.pi * x)\n",
    "# carrée\n",
    "# data2 = 2*((data1 >= 0).astype(np.float64)) - 1\n",
    "data2 = 2-2*np.floor(2*(x-np.floor(x)))-1\n",
    "# triangle\n",
    "data3 = (4-4*np.floor(2*(x+.25-np.floor(x+.25)))-2) * ( 2*(x+.75 - np.floor(x+.75))-1 ) -1\n",
    "# dents de scie\n",
    "data4 = 2*(x+.5 - np.floor(x+.5))-1\n",
    "\n",
    "data = np.concatenate( (data1, data3, data4, data2) )\n",
    "play_wav(data)"
   ]
  },
  {
   "cell_type": "markdown",
   "metadata": {},
   "source": [
    "#### Création d'une enveloppe de type ADSR\n",
    "\n",
    "![Enveloppe d'un son](http://upload.wikimedia.org/wikipedia/commons/e/e4/Enveloppe_ADSR.png)"
   ]
  },
  {
   "cell_type": "code",
   "execution_count": 2,
   "metadata": {
    "collapsed": false
   },
   "outputs": [],
   "source": [
    "framerate = 44100\n",
    "freq = 440\n",
    "dur = 1.5\n",
    "\n",
    "def enveloppe(mydata, a, d, s, r):\n",
    "    snd = np.array(mydata)\n",
    "    t1 = int(np.round(a*framerate))\n",
    "    t2 = int(np.round(d*framerate))\n",
    "    t4 = int(np.round(r*framerate))\n",
    "    t3 = len(snd) - t1 - t2 - t4\n",
    "    snd[0:t1] *= np.linspace(0,1,t1)\n",
    "    snd[t1:t1+t2] *= np.linspace(1,s,t2)\n",
    "    snd[t1+t2:t1+t2+t3] *= s\n",
    "    snd[-t4:] *= np.linspace(s,0,t4)\n",
    "    return snd\n",
    "\n",
    "x = np.array( [ freq*t/framerate for t in range(int(dur*framerate)) ] )\n",
    "data = np.sin(2.0 * np.pi * x)\n",
    "\n",
    "play_wav(data)\n",
    "time.sleep(.5) # pause d'une demi-seconde\n",
    "play_wav( enveloppe(data,.1,.1,.85,.1) )"
   ]
  },
  {
   "cell_type": "markdown",
   "metadata": {},
   "source": [
    "#### Création d'un accord (avec utilisation d'enveloppes)"
   ]
  },
  {
   "cell_type": "code",
   "execution_count": 3,
   "metadata": {
    "collapsed": false
   },
   "outputs": [],
   "source": [
    "framerate = 44100\n",
    "freq = 440\n",
    "dur = 2.5\n",
    "\n",
    "def note(freq, dur):\n",
    "    global framerate\n",
    "    return np.array([ np.sin(2.0 * np.pi * freq * t / framerate) for t in range(int(dur*framerate))])\n",
    "\n",
    "data  = enveloppe(note(261.63, dur), .15,.15,.85,.15)\n",
    "data += enveloppe(note(329.63, dur), .15,.15,.85,.15)\n",
    "data += enveloppe(note(392.00, dur), .15,.15,.85,.15)\n",
    "\n",
    "# on multiplie par 1/4 pour éviter un écrêtage\n",
    "play_wav( data*.25 )"
   ]
  },
  {
   "cell_type": "markdown",
   "metadata": {},
   "source": [
    "#### Un exemple de synthèse additive : une modélisation basique de la clarinette\n",
    "\n",
    "La synthèse additive est la plus ancienne ; elle est aujourd'hui moins utilisée car elle trouve rapidement ses limites. Elle se contente d'additionner des signaux afin d'enrichir le son. Les signaux additionnés sont fréquemment les harmoniques discrètes du son de base.\n",
    "\n",
    "Dans l'exemple suivant, on ajoute à la courbe sinusoïdale de base les premières harmoniques impaires (la fréquence de chacun de ces signaux est multipliée par 3, par 5, par 7, etc.) en diminuant un peu l'amplitude de ces signaux secondaires."
   ]
  },
  {
   "cell_type": "code",
   "execution_count": 4,
   "metadata": {
    "collapsed": false
   },
   "outputs": [],
   "source": [
    "framerate = 44100\n",
    "\n",
    "# Retourne la fréquence de la note n (numérotation MIDI)\n",
    "def freq(n):\n",
    "    return 440*2**((n-69)/12)\n",
    "\n",
    "def note(n,dur):\n",
    "  x = np.array( [ freq(n)*t/framerate for t in range(int(dur*framerate)) ] )\n",
    "  data = (np.sin(2*np.pi*x)+0.75*np.sin(3*2*np.pi*x)+0.5*np.sin(5*2*np.pi*x)+0.14*np.sin(7*2*np.pi*x)+\n",
    "     0.5*np.sin(9*2*np.pi*x)+0.12*np.sin(11*2*np.pi*x)+0.17*np.sin(13*2*np.pi*x))/8\n",
    "  return data\n",
    "\n",
    "for n in range(60,73):\n",
    "  play_wav( enveloppe(note(n,.45),.1,.1,.85,.1) )"
   ]
  },
  {
   "cell_type": "markdown",
   "metadata": {},
   "source": [
    "### Des sons moins élémentaires\n",
    "\n",
    "#### Un exemple de synthèse basé sur une modélisation physique : la corde pincée\n",
    "\n",
    "Le modèle de Karplus-Strong est assez fameux : il modélise le bruit d'une corde pincée autrement que par synthèse additive en s'efforçant plutôt d'imiter les phénomènes physiques en jeu dans les vibrations d'une corde pincée."
   ]
  },
  {
   "cell_type": "code",
   "execution_count": 5,
   "metadata": {
    "collapsed": false
   },
   "outputs": [],
   "source": [
    "import numpy as np\n",
    "import numpy.random\n",
    "\n",
    "framerate = 44100\n",
    "dur = 5.5\n",
    "\n",
    "nn = int(dur*framerate)\n",
    "dn = 160 # faire varier 'dn' pour modifier le son\n",
    "dln=numpy.random.rand(dn)\n",
    "\n",
    "data = np.zeros(nn)\n",
    "\n",
    "for k in range(nn):\n",
    "    z = 0.5*(dln[-1]+dln[-2])\n",
    "    dln = np.roll(dln,1); dln[0] = z\n",
    "    data[k] = z\n",
    "\n",
    "play_wav(data)"
   ]
  },
  {
   "cell_type": "markdown",
   "metadata": {},
   "source": [
    "## Seconde partie. Analyse d'un son.\n",
    "\n",
    "On se servira ici d'une [transformation de Fourier discrète](http://fr.wikipedia.org/wiki/Transformation_de_Fourier_discr%C3%A8te). Le schéma ci-dessous donne le résultat de cette transformation pour la fonction sinus (une fois échantillonnée).\n",
    "\n",
    "![Schéma de la transformation de Fourier discrète](http://upload.wikimedia.org/wikipedia/commons/thumb/5/58/TFD.JPG/800px-TFD.JPG)"
   ]
  },
  {
   "cell_type": "code",
   "execution_count": 8,
   "metadata": {
    "collapsed": false
   },
   "outputs": [
    {
     "data": {
      "image/png": "[encoded data removed]",
      "text/plain": [
       "<matplotlib.figure.Figure at 0x7fc60c3415c0>"
      ]
     },
     "metadata": {},
     "output_type": "display_data"
    }
   ],
   "source": [
    "%matplotlib inline\n",
    "\n",
    "import numpy as np\n",
    "from numpy.fft import rfft\n",
    "import matplotlib.pyplot as plt\n",
    "import matplotlib.cm as cm\n",
    "import scipy.ndimage\n",
    "\n",
    "framerate = 44100\n",
    "freq = 440\n",
    "dur = 2\n",
    "\n",
    "x = np.array( [ freq*t/framerate for t in range(int(dur*framerate)) ] )\n",
    "\n",
    "# courbe sinusoïdale\n",
    "data = np.sin(2.0 * np.pi * x)\n",
    "\n",
    "# on prend le module\n",
    "d = rfft(data)\n",
    "d = abs(d)\n",
    "# la fréquence x (en Hz) se situe en d[ x * dur ]\n",
    "\n",
    "# on réduit la taille du tableau (en prenant le maximum au voisinage)\n",
    "ll = (np.array(range(len(d))) / 100).astype(np.int16)\n",
    "o = scipy.ndimage.maximum(d, labels=ll, index=list(range(ll[-1]+1)))\n",
    "o = [o,]*64\n",
    "\n",
    "# Affichage des fréquences\n",
    "# ========================\n",
    "\n",
    "plt.imshow(o,cmap=cm.Blues) # Utilisation d'un dégradé de bleu\n",
    "plt.gcf().set_size_inches(15,6)\n",
    "# correction des unités pour l'axe des abscisses\n",
    "myticks = plt.gca().get_xticks()*framerate/2/len(o[0])\n",
    "plt.gca().axes.set_xticklabels(myticks)\n",
    "# suppression des valeurs pour les ordonnées\n",
    "plt.gca().axes.get_yaxis().set_visible(False)\n",
    "plt.show()"
   ]
  },
  {
   "cell_type": "markdown",
   "metadata": {},
   "source": [
    "Afin d'améliorer l'affichage des spectres, une fonction spéciale est proposée par l'équipe enseignante du Lycée naval ; elle comporte de nombreuses options."
   ]
  },
  {
   "cell_type": "code",
   "execution_count": 68,
   "metadata": {
    "collapsed": false
   },
   "outputs": [],
   "source": [
    "# Définition d'une fonction élaborée d'affichage des spectres acoustiques\n",
    "\n",
    "import numpy as np\n",
    "from numpy.fft import rfft\n",
    "import matplotlib.pyplot as plt\n",
    "import matplotlib.cm as cm\n",
    "import scipy.ndimage\n",
    "\n",
    "def plotSpectrum(data, ax=None,\n",
    "                 framerate=44100,\n",
    "                 clipFreq=0,\n",
    "                 width=640,\n",
    "                 height=64,\n",
    "                 cmap = cm.Greys,\n",
    "                 ticks = 5000,\n",
    "                 horizontal=True):\n",
    "  if clipFreq==0 or clipFreq > framerate//2:\n",
    "    clipFreq = framerate//2\n",
    "  d = abs(rfft(data))\n",
    "  l = len(d)\n",
    "  limit = l*clipFreq*2//framerate\n",
    "  ll = [ 1 + x*width//limit for x in range(limit) ]\n",
    "  o = scipy.ndimage.maximum(d[:limit],\n",
    "        labels=ll, index=list(range(1,1+width)))\n",
    "  o = [o,]*height\n",
    "  if not ax: ax = plt.gca()\n",
    "  if horizontal:\n",
    "    ax.imshow(o,cmap=cmap)\n",
    "    ax.axes.get_yaxis().set_visible(False)\n",
    "    myticks = [ x for x in range(0,clipFreq,ticks) ]\n",
    "    ax.axes.set_xticks(np.array(myticks)*width//clipFreq)\n",
    "    ax.axes.set_xticklabels(myticks)\n",
    "  else:\n",
    "    ax.imshow(np.array(o).T,cmap=cmap, origin='lower')\n",
    "    ax.axes.get_xaxis().set_visible(False)\n",
    "    myticks = [ x for x in range(0,clipFreq,ticks) ]\n",
    "    ax.axes.set_yticks(np.array(myticks)*width//clipFreq)\n",
    "    ax.axes.set_yticklabels(myticks)\n",
    "  return ax"
   ]
  },
  {
   "cell_type": "code",
   "execution_count": 72,
   "metadata": {
    "collapsed": false
   },
   "outputs": [
    {
     "data": {
      "image/png": "[encoded data removed]",
      "text/plain": [
       "<matplotlib.figure.Figure at 0x7fcbff1334a8>"
      ]
     },
     "metadata": {},
     "output_type": "display_data"
    }
   ],
   "source": [
    "# Test de la fonction\n",
    "\n",
    "import matplotlib.pyplot as plt\n",
    "import matplotlib.cm as cm\n",
    "\n",
    "framerate = 44100\n",
    "freq = 440\n",
    "dur = 2\n",
    "\n",
    "x = np.array( [ freq*t/framerate for t in range(int(dur*framerate)) ] )\n",
    "\n",
    "# courbe sinusoïdale\n",
    "data = np.sin(2.0 * np.pi * x)\n",
    "\n",
    "plotSpectrum(data, clipFreq=1000, ticks=100, cmap=cm.Reds)\n",
    "plt.gcf().set_size_inches(15,6)\n",
    "plt.show()"
   ]
  },
  {
   "cell_type": "code",
   "execution_count": 94,
   "metadata": {
    "collapsed": false
   },
   "outputs": [
    {
     "data": {
      "image/png": "[encoded data removed]",
      "text/plain": [
       "<matplotlib.figure.Figure at 0x7fcc2c48ea90>"
      ]
     },
     "metadata": {},
     "output_type": "display_data"
    }
   ],
   "source": [
    "%matplotlib inline\n",
    "\n",
    "import numpy as np\n",
    "import matplotlib.pyplot as plt\n",
    "import matplotlib.cm as cm\n",
    "\n",
    "# On commence par créer quatre sons correspondant aux quatre courbes\n",
    "\n",
    "framerate = 44100\n",
    "freq = 440\n",
    "dur = 2\n",
    "\n",
    "x = np.array( [ freq*t/framerate for t in range(int(dur*framerate)) ] )\n",
    "\n",
    "# sinusoïdale\n",
    "data1 = np.sin(2.0 * np.pi * x)\n",
    "# carrée\n",
    "data2 = 2-2*np.floor(2*(x-np.floor(x)))-1\n",
    "# triangle\n",
    "data3 = (4-4*np.floor(2*(x+.25-np.floor(x+.25)))-2) * ( 2*(x+.75 - np.floor(x+.75))-1 ) -1\n",
    "# dents de scie\n",
    "data4 = 2*(x+.5 - np.floor(x+.5))-1\n",
    "\n",
    "\n",
    "# Affichage des fréquences\n",
    "# ========================\n",
    "\n",
    "plt.gcf().set_size_inches(15,8)\n",
    "\n",
    "plt.subplot(4,1,1)\n",
    "plotSpectrum(data1, ticks=1000, clipFreq=10000, cmap=cm.Blues)\n",
    "plt.annotate(\"sinusoïdale\",xy=(572,15), size='xx-large')\n",
    "\n",
    "plt.subplot(4,1,2)\n",
    "plotSpectrum(data2, ticks=1000, clipFreq=10000, cmap=cm.Blues)\n",
    "plt.annotate(\"carrée\",xy=(595,15), size='xx-large')\n",
    "\n",
    "plt.subplot(4,1,3)\n",
    "plotSpectrum(data3, ticks=1000, clipFreq=10000, cmap=cm.Blues)\n",
    "plt.annotate(\"triangle\",xy=(591,15), size='xx-large')\n",
    "\n",
    "plt.subplot(4,1,4)\n",
    "plotSpectrum(data4, ticks=1000, clipFreq=10000, cmap=cm.Blues)\n",
    "plt.annotate(\"dents de scie\",xy=(561,15), size='xx-large')\n",
    "\n",
    "plt.tight_layout()\n",
    "plt.show()"
   ]
  },
  {
   "cell_type": "markdown",
   "metadata": {},
   "source": [
    "Noter la présence visible des harmoniques dans les spectres ci-dessus."
   ]
  },
  {
   "cell_type": "markdown",
   "metadata": {},
   "source": [
    "#### Analyse d'un morceau de Mozart\n",
    "\n",
    "On applique une transformée de Fourier sur des petites fenêtres (correspondant à 1/8 sec.) aux premières secondes d'un enregistrement de la sonate en Do majeur."
   ]
  },
  {
   "cell_type": "code",
   "execution_count": 19,
   "metadata": {
    "collapsed": false
   },
   "outputs": [
    {
     "data": {
      "image/png": "[encoded data removed]",
      "text/plain": [
       "<matplotlib.figure.Figure at 0x7fcbff994940>"
      ]
     },
     "metadata": {},
     "output_type": "display_data"
    }
   ],
   "source": [
    "%matplotlib inline\n",
    "\n",
    "import wave, struct\n",
    "import numpy as np\n",
    "from numpy.fft import rfft\n",
    "import matplotlib.pyplot as plt\n",
    "import matplotlib.cm as cm\n",
    "\n",
    "# fichier venant de http://ssl7.ovh.net/~pianoteq/philippe/PIANO/WAV/43mozarts15a.wav\n",
    "soundfile= '/home/thomas/Bureau/43mozarts15a.wav'\n",
    "snd = wave.open(soundfile, mode='rb')\n",
    "\n",
    "framerate = snd.getframerate() # normalement 44100\n",
    "nchannels = snd.getnchannels() # 2 pour stereo\n",
    "sw = snd.getsampwidth()        # 2 pour des entiers courts (type 'signed short')\n",
    "\n",
    "# on lit 4 secondes\n",
    "data = snd.readframes(4 * nchannels * framerate)\n",
    "data = struct.unpack_from (\"%dh\" % 4 * nchannels * framerate, data)\n",
    "snd.close()\n",
    "\n",
    "# on garde uniquement le premier canal (gauche)\n",
    "data = data[::nchannels]\n",
    "\n",
    "pic = []\n",
    "# on lit par 1/8 sec.\n",
    "for i in range(32):\n",
    "    window = data[i*framerate//8:(i+1)*framerate//8]\n",
    "    d = abs(rfft(window))\n",
    "    # on réduit la taille du tableau par troncature (fréquences basses)\n",
    "    # on recopie la fréquence sur 15 pixels (pour la visibilité)\n",
    "    o = [d[:150],]*15\n",
    "    pic += o\n",
    "\n",
    "# on prend la transposée\n",
    "pic = np.array(pic).T\n",
    "\n",
    "# Affichage des fréquences\n",
    "# ========================\n",
    "\n",
    "plt.imshow(pic,origin='lower',cmap=cm.Purples) # Utilisation d'un dégradé de violet\n",
    "plt.gcf().set_size_inches(15,6)\n",
    "# suppression des valeurs sur les axes\n",
    "plt.gca().axes.get_xaxis().set_visible(False)\n",
    "plt.gca().axes.get_yaxis().set_visible(False)\n",
    "plt.show()"
   ]
  },
  {
   "cell_type": "markdown",
   "metadata": {},
   "source": [
    "Comparer le graphique obtenu avec la première mesure de la partition (et le début de la seconde) :\n",
    "\n",
    "![Sonate en Do majeur](http://upload.wikimedia.org/wikipedia/commons/b/be/Mozart_k545_opening.png)\n",
    "\n",
    "(noter les similitudes visuelles évidentes)."
   ]
  },
  {
   "cell_type": "markdown",
   "metadata": {},
   "source": [
    "Il est bien entendu possible d'utiliser la routine déjà définie pour écouter les premières secondes du morceau :"
   ]
  },
  {
   "cell_type": "code",
   "execution_count": 18,
   "metadata": {
    "collapsed": false
   },
   "outputs": [],
   "source": [
    "import wave, struct\n",
    "import numpy as np\n",
    "\n",
    "# fichier venant de http://ssl7.ovh.net/~pianoteq/philippe/PIANO/WAV/43mozarts15a.wav\n",
    "soundfile= '/home/thomas/Bureau/43mozarts15a.wav'\n",
    "snd = wave.open(soundfile, mode='rb')\n",
    "\n",
    "framerate = snd.getframerate() # normalement 44100\n",
    "nchannels = snd.getnchannels() # 2 pour stereo\n",
    "sw = snd.getsampwidth()        # 2 pour des entiers courts (type 'signed short')\n",
    "\n",
    "# on lit 12 secondes\n",
    "data = snd.readframes(12 * nchannels * framerate)\n",
    "data = struct.unpack_from (\"%dh\" % 12 * nchannels * framerate, data)\n",
    "snd.close()\n",
    "\n",
    "# on garde uniquement le premier canal (gauche)\n",
    "data = data[::nchannels]\n",
    "\n",
    "play_wav(np.array(data)/32767)"
   ]
  },
  {
   "cell_type": "markdown",
   "metadata": {},
   "source": [
    "#### Nettoyage d'un signal bruité\n",
    "\n",
    "Il arrive que le signal soit très faible ou noyé dans du bruit (détection sous-marine), restauration d'un vieil enregistrement. On propose ici un protocole simple : élimination des fréquences dont la contribution à l'ensemble du signal est trop faible."
   ]
  },
  {
   "cell_type": "code",
   "execution_count": 28,
   "metadata": {
    "collapsed": false
   },
   "outputs": [],
   "source": [
    "# premier exemple : construction d'un signal brouillé\n",
    "\n",
    "import numpy as np\n",
    "import numpy.random\n",
    "\n",
    "framerate = 44100\n",
    "freq = 440\n",
    "dur = 3\n",
    "\n",
    "# note pure\n",
    "x = np.linspace(0,dur,dur*framerate)\n",
    "data = np.sin(2*np.pi*freq*x)\n",
    "\n",
    "data = data/2 + (np.random.rand(len(x)) - .5)\n",
    "\n",
    "play_wav(data)"
   ]
  },
  {
   "cell_type": "code",
   "execution_count": 101,
   "metadata": {
    "collapsed": false
   },
   "outputs": [
    {
     "data": {
      "image/png": "[encoded data removed]",
      "text/plain": [
       "<matplotlib.figure.Figure at 0x7fcbff970be0>"
      ]
     },
     "metadata": {},
     "output_type": "display_data"
    }
   ],
   "source": [
    "# (suite: exécuter d'abord la cellule précédente)\n",
    "\n",
    "plotSpectrum(data, ticks=100, clipFreq=1000, cmap=cm.PuRd)\n",
    "plt.gcf().set_size_inches(15,8)\n",
    "plt.show()"
   ]
  },
  {
   "cell_type": "code",
   "execution_count": 27,
   "metadata": {
    "collapsed": false
   },
   "outputs": [],
   "source": [
    "# (suite: exécuter d'abord les cellules précédentes)\n",
    "from numpy.fft import rfft, irfft\n",
    "\n",
    "d = rfft(data)\n",
    "\n",
    "filtre = abs(d) > 1e3\n",
    "d2 = d * filtre\n",
    "\n",
    "data2 = irfft(d2)\n",
    "\n",
    "play_wav(data2)"
   ]
  },
  {
   "cell_type": "markdown",
   "metadata": {},
   "source": [
    "Dans l'exemple suivant, le bruit initial est inaudible ; le signal final sera amplifié."
   ]
  },
  {
   "cell_type": "code",
   "execution_count": 97,
   "metadata": {
    "collapsed": false
   },
   "outputs": [],
   "source": [
    "# deuxième exemple : construction d'un signal brouillé\n",
    "\n",
    "import numpy as np\n",
    "import numpy.random\n",
    "\n",
    "framerate = 44100\n",
    "freq = 440\n",
    "dur = 3\n",
    "\n",
    "# note pure\n",
    "x = np.linspace(0,dur,dur*framerate)\n",
    "data = np.sin(2*np.pi*freq*x)\n",
    "\n",
    "data = data/32 + (np.random.rand(len(x)) - .5)\n",
    "\n",
    "play_wav(data)"
   ]
  },
  {
   "cell_type": "code",
   "execution_count": 100,
   "metadata": {
    "collapsed": false
   },
   "outputs": [
    {
     "data": {
      "image/png": "[encoded data removed]",
      "text/plain": [
       "<matplotlib.figure.Figure at 0x7fcc0e07fd68>"
      ]
     },
     "metadata": {},
     "output_type": "display_data"
    }
   ],
   "source": [
    "# (suite: exécuter d'abord la cellule précédentes)\n",
    "\n",
    "plotSpectrum(data, ticks=100, clipFreq=1000, cmap=cm.PuRd)\n",
    "plt.gcf().set_size_inches(15,8)\n",
    "plt.show()"
   ]
  },
  {
   "cell_type": "code",
   "execution_count": 99,
   "metadata": {
    "collapsed": false
   },
   "outputs": [],
   "source": [
    "# (suite: exécuter d'abord les cellules précédentes)\n",
    "\n",
    "from numpy.fft import rfft, irfft\n",
    "\n",
    "d = rfft(data)\n",
    "\n",
    "filtre = abs(d) > 1e3\n",
    "d2 = d * filtre\n",
    "\n",
    "data2 = irfft(d2)\n",
    "\n",
    "data2 *= 24 # amplification\n",
    "\n",
    "play_wav(data2)"
   ]
  }
 ],
 "metadata": {
  "kernelspec": {
   "display_name": "Python 3",
   "language": "python",
   "name": "python3"
  },
  "language_info": {
   "codemirror_mode": {
    "name": "ipython",
    "version": 3
   },
   "file_extension": ".py",
   "mimetype": "text/x-python",
   "name": "python",
   "nbconvert_exporter": "python",
   "pygments_lexer": "ipython3",
   "version": "3.5.2"
  }
 },
 "nbformat": 4,
 "nbformat_minor": 0
}
