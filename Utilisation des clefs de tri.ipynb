{
 "metadata": {
  "name": ""
 },
 "nbformat": 3,
 "nbformat_minor": 0,
 "worksheets": [
  {
   "cells": [
    {
     "cell_type": "heading",
     "level": 1,
     "metadata": {},
     "source": [
      "Utilisation des clefs de tri"
     ]
    },
    {
     "cell_type": "markdown",
     "metadata": {},
     "source": [
      "La m\u00e9thode `sort` permet de trier une liste. Le tri se fait _en place_ donc la liste initiale est elle-m\u00eame modifi\u00e9e (sinon on utilisera la fonction `sorted`)."
     ]
    },
    {
     "cell_type": "code",
     "collapsed": false,
     "input": [
      "L = [3,1,4,5,9,2,6]\n",
      "L.sort()\n",
      "print( L )"
     ],
     "language": "python",
     "metadata": {},
     "outputs": [
      {
       "output_type": "stream",
       "stream": "stdout",
       "text": [
        "[1, 2, 3, 4, 5, 6, 9]\n"
       ]
      }
     ],
     "prompt_number": 2
    },
    {
     "cell_type": "markdown",
     "metadata": {},
     "source": [
      "Sans pr\u00e9cision suppl\u00e9mentaire, le tri se fait (de fa\u00e7on interne) \u00e0 l'aide des op\u00e9rateurs de comparaisons quand ils existent ; cela rend possible le tri entre des nombres mais \u00e9galement entre des cha\u00eenes de caract\u00e8res ou des listes (l'ordre lexicographique permet les comparaisons). Dans le cas des nombres (entiers ou flottants), l'ordre obtenu est l'ordre _naturel_.\n",
      "\n",
      "Il est possible de sp\u00e9cifier une clef de tri, soit parce que l'on cherche un ordre particulier, soit parce que la comparaison n'est pas naturelle entre certains objets (ex. : cas des nombres complexes).\n",
      "\n",
      "La clef de tri doit associer un nombre \u00e0 chaque objet de la liste ; le tri se fait alors sur ces nombres selon l'ordre naturel."
     ]
    },
    {
     "cell_type": "markdown",
     "metadata": {},
     "source": [
      "### Exemples de comparaison entre des nombres complexes"
     ]
    },
    {
     "cell_type": "code",
     "collapsed": false,
     "input": [
      "from random import randrange\n",
      "L = [ randrange(0,10) + 1j * randrange(0,10) for x in range(20) ]\n",
      "\n",
      "print(L)"
     ],
     "language": "python",
     "metadata": {},
     "outputs": [
      {
       "output_type": "stream",
       "stream": "stdout",
       "text": [
        "[(1+1j), (7+1j), (1+5j), (1+8j), (1+6j), (4+7j), (8+9j), (1+3j), (7+2j), (4+1j), (7+6j), (9+6j), (9+7j), 4j, (7+6j), (4+1j), (4+4j), (8+9j), (2+6j), 7j]\n"
       ]
      }
     ],
     "prompt_number": 3
    },
    {
     "cell_type": "markdown",
     "metadata": {},
     "source": [
      "Le tri n'est pas nativement possible entre des complexes :"
     ]
    },
    {
     "cell_type": "code",
     "collapsed": false,
     "input": [
      "L.sort()"
     ],
     "language": "python",
     "metadata": {},
     "outputs": [
      {
       "ename": "TypeError",
       "evalue": "unorderable types: complex() < complex()",
       "output_type": "pyerr",
       "traceback": [
        "\u001b[0;31m---------------------------------------------------------------------------\u001b[0m\n\u001b[0;31mTypeError\u001b[0m                                 Traceback (most recent call last)",
        "\u001b[0;32m<ipython-input-4-f9f6e6d0d478>\u001b[0m in \u001b[0;36m<module>\u001b[0;34m()\u001b[0m\n\u001b[0;32m----> 1\u001b[0;31m \u001b[0mL\u001b[0m\u001b[0;34m.\u001b[0m\u001b[0msort\u001b[0m\u001b[0;34m(\u001b[0m\u001b[0;34m)\u001b[0m\u001b[0;34m\u001b[0m\u001b[0m\n\u001b[0m",
        "\u001b[0;31mTypeError\u001b[0m: unorderable types: complex() < complex()"
       ]
      }
     ],
     "prompt_number": 4
    },
    {
     "cell_type": "markdown",
     "metadata": {},
     "source": [
      "Il est cependant possible de trier les nombres complexes selon leur module :"
     ]
    },
    {
     "cell_type": "code",
     "collapsed": false,
     "input": [
      "L.sort( key=lambda x: abs(x) )\n",
      "print( L )"
     ],
     "language": "python",
     "metadata": {},
     "outputs": [
      {
       "output_type": "stream",
       "stream": "stdout",
       "text": [
        "[(1+1j), (1+3j), 4j, (4+1j), (4+1j), (1+5j), (4+4j), (1+6j), (2+6j), 7j, (7+1j), (7+2j), (1+8j), (4+7j), (7+6j), (7+6j), (9+6j), (9+7j), (8+9j), (8+9j)]\n"
       ]
      }
     ],
     "prompt_number": 5
    },
    {
     "cell_type": "markdown",
     "metadata": {},
     "source": [
      "ou encore par leur argument :"
     ]
    },
    {
     "cell_type": "code",
     "collapsed": false,
     "input": [
      "from cmath import phase\n",
      "L.sort( key=lambda x: phase(x) )\n",
      "print( L )"
     ],
     "language": "python",
     "metadata": {},
     "outputs": []
    },
    {
     "cell_type": "markdown",
     "metadata": {},
     "source": [
      "### Exemples d'ordres non naturels sur des entiers positifs\n",
      "\n",
      "On cherchera ici \u00e0 trier les entiers positifs (en incluant le z\u00e9ro) selon quatre ordres non naturels :\n",
      "\n",
      "  * pairs d\u00e9croissants puis impairs d\u00e9croissants\n",
      "  * impairs d\u00e9croissants puis pairs d\u00e9croissants\n",
      "  * impairs croissants puis pairs croissants\n",
      "  * pairs croissants puis impairs croissants"
     ]
    },
    {
     "cell_type": "code",
     "collapsed": false,
     "input": [
      "L = list(range(20))\n",
      "\n",
      "L.sort(key=lambda x: x%2 + 1/(x+1))\n",
      "print(\"Pairs d\u00e9croissants puis impairs d\u00e9croissants :\")\n",
      "print(L)\n",
      "print()\n",
      "\n",
      "L.sort(key=lambda x: 1 - x%2 + 1/(x+1))\n",
      "print(\"Impairs d\u00e9croissants puis pairs d\u00e9croissants :\")\n",
      "print(L)\n",
      "print()\n",
      "\n",
      "L.sort(key=lambda x: -( x%2 + 1/(x+1)))\n",
      "print(\"Impairs croissants puis pairs croissants :\")\n",
      "print(L)\n",
      "print()\n",
      "\n",
      "L.sort(key=lambda x: -( 1 - x%2 + 1/(x+1)))\n",
      "print(\"Pairs croissants puis impairs croissants :\")\n",
      "print(L)"
     ],
     "language": "python",
     "metadata": {},
     "outputs": []
    },
    {
     "cell_type": "code",
     "collapsed": false,
     "input": [],
     "language": "python",
     "metadata": {},
     "outputs": []
    }
   ],
   "metadata": {}
  }
 ]
}