{
 "metadata": {
  "name": ""
 },
 "nbformat": 3,
 "nbformat_minor": 0,
 "worksheets": [
  {
   "cells": [
    {
     "cell_type": "heading",
     "level": 1,
     "metadata": {},
     "source": [
      "Probl\u00e8me du sac \u00e0 dos"
     ]
    },
    {
     "cell_type": "markdown",
     "metadata": {},
     "source": [
      "Le probl\u00e8me est d\u00e9crit sur Wikip\u00e9dia : [Probl\u00e8me du sac \u00e0 dos](https://fr.wikipedia.org/wiki/Probl%C3%A8me_du_sac_%C3%A0_dos). Il ne sera pas \u00e9tudi\u00e9 de fa\u00e7on exhaustive ; on se contentera d'examiner quelques approches simples."
     ]
    },
    {
     "cell_type": "markdown",
     "metadata": {},
     "source": [
      "## \u00c9nonc\u00e9 du probl\u00e8me\n",
      "\n",
      "On cherche \u00e0 remplir un sac \u00e0 dos d'objets vari\u00e9s, chacun \u00e9tant caract\u00e9ris\u00e9 par une valeur (prix, utilit\u00e9, etc.) sans d\u00e9passer un certain encombrement maximal (poids, volume, etc.).\n",
      "\n",
      "![Probl\u00e8me du sac \u00e0 dos](https://upload.wikimedia.org/wikipedia/commons/f/fd/Knapsack.svg)"
     ]
    },
    {
     "cell_type": "markdown",
     "metadata": {},
     "source": [
      "## Cr\u00e9ation du sac \u00e0 dos\n",
      "Chaque objet sera repr\u00e9sent\u00e9 par un tuples d'entiers ou de flottants. Ces objets seront cr\u00e9\u00e9s de fa\u00e7on al\u00e9atoire. Le tuple contiendra, dans l'ordre, la valeur et l'encombrement de l'objet.\n",
      "\n",
      "On utilisera le module `numpy.random` pour cr\u00e9er le sac ; un protocole identique sera utilis\u00e9 par tous les \u00e9l\u00e8ves (afin de disposer exactement du m\u00eame ensemble d'objets ce qui permettra par la suite de comparer les r\u00e9sultats). Il est possible d'ajuster le g\u00e9n\u00e9rateur de nombre al\u00e9atoires de telle sorte que chaque \u00e9l\u00e8ve tire les m\u00eames nombres d'un ordinateur \u00e0 l'autre."
     ]
    },
    {
     "cell_type": "markdown",
     "metadata": {},
     "source": [
      "#### Des caract\u00e9ristiques tr\u00e8s constrast\u00e9es\n",
      "Afin de rendre le probl\u00e8me plus int\u00e9ressant en \u00e9vitant l'accumulation d'objets moyens, on cr\u00e9e une fonction de tirage al\u00e9atoire ayant tendance \u00e0 retourner des valeurs extr\u00eames entre 1 et 15. Le contraste \u00e9lev\u00e9 sera obtenu gr\u00e2ce \u00e0 la fonction d'erreur `scipy.special.erf` dont la courbe a une forme de S"
     ]
    },
    {
     "cell_type": "code",
     "collapsed": false,
     "input": [
      "%matplotlib inline\n",
      "\n",
      "import numpy as np\n",
      "import numpy.random as npr\n",
      "from scipy.special import erf\n",
      "import matplotlib.pyplot as plt\n",
      "\n",
      "x = np.linspace(-.5,.5,1000)\n",
      "y = erf( 3*x )\n",
      "plt.plot(x,y)"
     ],
     "language": "python",
     "metadata": {},
     "outputs": [
      {
       "metadata": {},
       "output_type": "pyout",
       "prompt_number": 1,
       "text": [
        "[<matplotlib.lines.Line2D at 0x7f5383549550>]"
       ]
      },
      {
       "metadata": {},
       "output_type": "display_data",
       "png": "[encoded data removed]",
       "text": [
        "<matplotlib.figure.Figure at 0x7f538366e278>"
       ]
      }
     ],
     "prompt_number": 1
    },
    {
     "cell_type": "markdown",
     "metadata": {},
     "source": [
      "D'o\u00f9 la fonction (en diminuant l\u00e9g\u00e8rement le contraste par rapport \u00e0 la figure ci-dessus) :"
     ]
    },
    {
     "cell_type": "code",
     "collapsed": false,
     "input": [
      "def myrandom():\n",
      "    x = npr.random() - .5  # nombre al\u00e9atoire entre -0.5 et 0.5\n",
      "    v = erf( 2.5*x )         # nombre al\u00e9atoire entre -1 et 1 (avec contraste)\n",
      "    v2 = (v+1)/2           # nombre al\u00e9atoire entre 0 et 1 (avec contraste)\n",
      "    return 1 + int(15*v2)  # nombre al\u00e9atoire entre 1 et 15 (inclus)"
     ],
     "language": "python",
     "metadata": {},
     "outputs": [],
     "prompt_number": 2
    },
    {
     "cell_type": "markdown",
     "metadata": {},
     "source": [
      "#### Cr\u00e9ation de l'ensemble d'objets\n",
      "Une graine (en anglais : _seed_) est utilis\u00e9e pour initialiser le g\u00e9n\u00e9rateur de nombres al\u00e9atoires ; on demande \u00e0 tous les \u00e9l\u00e8ves d'utiliser exactement la m\u00eame graine"
     ]
    },
    {
     "cell_type": "code",
     "collapsed": false,
     "input": [
      "# on initialise le g\u00e9n\u00e9rateur de nombres al\u00e9atoires afin que tous\n",
      "# les \u00e9l\u00e8ves travaillent sur le m\u00eame ensemble.\n",
      "npr.seed(42)\n",
      "\n",
      "items = []\n",
      "for i in range(100):\n",
      "    #items.append( (npr.randint(1,15), npr.randint(1,15)) )\n",
      "    items.append( (myrandom(), myrandom()) )"
     ],
     "language": "python",
     "metadata": {},
     "outputs": [],
     "prompt_number": 3
    },
    {
     "cell_type": "code",
     "collapsed": false,
     "input": [
      "# on v\u00e9rifie que tout le monde a bien la m\u00eame base de travail\n",
      "# la ligne suivante devrait afficher :\n",
      "# [(15, 13), (1, 11), (14, 3)]\n",
      "\n",
      "print( items[25::25] )"
     ],
     "language": "python",
     "metadata": {},
     "outputs": [
      {
       "output_type": "stream",
       "stream": "stdout",
       "text": [
        "[(15, 13), (1, 11), (14, 3)]\n"
       ]
      }
     ],
     "prompt_number": 4
    },
    {
     "cell_type": "markdown",
     "metadata": {},
     "source": [
      "## R\u00e9solution du probl\u00e8me\n",
      "De nombreuses id\u00e9es peuvent \u00eatre envisag\u00e9es  ; on laisse les \u00e9l\u00e8ves r\u00e9fl\u00e9chir \u00e0 la question. Plusieurs algorithmes seront \u00e9tudi\u00e9s en cours.\n",
      "\n",
      "> **L'encombrement maximal autoris\u00e9 est : 75**"
     ]
    },
    {
     "cell_type": "markdown",
     "metadata": {},
     "source": [
      "### Algorithme glouton (premi\u00e8re version)\n",
      "On se contente na\u00efvement de piocher l'objet le plus int\u00e9ressant (par sa valeur) encore disponible jusqu'\u00e0 ce que le sac \u00e0 dos soit rempli."
     ]
    },
    {
     "cell_type": "code",
     "collapsed": false,
     "input": [
      "# on commence par trier les objets selon la valeur du premier terme de chaque tuple\n",
      "# on utilise pour cela la m\u00e9thode 'sort' assortie d'une clef simple : \u00e0 chaque objet\n",
      "# est associ\u00e9 (pour le tri) sa valeur\n",
      "items2 = list(items)\n",
      "items2.sort(key = lambda i: i[0])\n",
      "\n",
      "# on accumule ensuite les objets jusqu'\u00e0 atteindre l'encombrement maximal\n",
      "encombrement, valeur = 0, 0\n",
      "knapsack = []\n",
      "while len(items2) > 0 and encombrement + items2[-1][1] <= 75:\n",
      "    i = items2.pop()\n",
      "    encombrement += i[1]\n",
      "    valeur += i[0]\n",
      "    knapsack.append( i )\n",
      "print(\"Encombrement :\", encombrement)\n",
      "print(\"Valeur :\", valeur)"
     ],
     "language": "python",
     "metadata": {},
     "outputs": [
      {
       "output_type": "stream",
       "stream": "stdout",
       "text": [
        "Encombrement : 66\n",
        "Valeur : 120\n"
       ]
      }
     ],
     "prompt_number": 5
    },
    {
     "cell_type": "markdown",
     "metadata": {},
     "source": [
      "### Algorithme glouton (seconde version)\n",
      "On pioche maintenant l'objet le _moins encombrant_ encore disponible jusqu'\u00e0 ce que le sac \u00e0 dos soit rempli."
     ]
    },
    {
     "cell_type": "code",
     "collapsed": false,
     "input": [
      "# on commence par trier les objets selon le rapport des deux termes de chaque tuple\n",
      "# on utilise pour cela la m\u00e9thode 'sort' assortie d'une clef simple : \u00e0 chaque objet\n",
      "# est associ\u00e9 (pour le tri) le rapport de la premi\u00e8re valeur sur la seconde\n",
      "items2 = list(items)\n",
      "items2.sort(key = lambda i: -i[1])\n",
      "\n",
      "# on accumule ensuite les objets jusqu'\u00e0 atteindre l'encombrement maximal\n",
      "encombrement, valeur = 0, 0\n",
      "knapsack = []\n",
      "while len(items2) > 0 and encombrement +  items2[-1][1] <= 75:\n",
      "    i = items2.pop()\n",
      "    encombrement += i[1]\n",
      "    valeur += i[0]\n",
      "    knapsack.append( i )\n",
      "print(\"Encombrement :\", encombrement)\n",
      "print(\"Valeur :\", valeur)\n",
      "print(knapsack)"
     ],
     "language": "python",
     "metadata": {},
     "outputs": [
      {
       "output_type": "stream",
       "stream": "stdout",
       "text": [
        "Encombrement : 73\n",
        "Valeur : 257\n",
        "[(12, 1), (4, 1), (5, 1), (13, 1), (10, 1), (5, 2), (15, 2), (11, 2), (4, 2), (4, 2), (3, 2), (1, 2), (5, 2), (9, 2), (4, 2), (10, 2), (10, 2), (2, 2), (2, 2), (9, 3), (8, 3), (4, 3), (15, 3), (14, 3), (15, 3), (6, 3), (13, 3), (14, 3), (13, 3), (2, 3), (14, 3), (1, 4)]\n"
       ]
      }
     ],
     "prompt_number": 6
    },
    {
     "cell_type": "markdown",
     "metadata": {},
     "source": [
      "### Algorithme glouton (troisi\u00e8me version)\n",
      "On pioche maintenant l'objet le plus int\u00e9ressant _par le rapport de sa valeur sur son encombrement_ encore disponible jusqu'\u00e0 ce que le sac \u00e0 dos soit rempli."
     ]
    },
    {
     "cell_type": "code",
     "collapsed": false,
     "input": [
      "# on commence par trier les objets selon le rapport des deux termes de chaque tuple\n",
      "# on utilise pour cela la m\u00e9thode 'sort' assortie d'une clef simple : \u00e0 chaque objet\n",
      "# est associ\u00e9 (pour le tri) le rapport de la premi\u00e8re valeur sur la seconde\n",
      "items2 = list(items)\n",
      "items2.sort(key = lambda i: i[0]/i[1])\n",
      "\n",
      "# on accumule ensuite les objets jusqu'\u00e0 atteindre l'encombrement maximal\n",
      "encombrement, valeur = 0, 0\n",
      "knapsack = []\n",
      "while len(items2) > 0 and encombrement +  items2[-1][1] <= 75:\n",
      "    i = items2.pop()\n",
      "    encombrement += i[1]\n",
      "    valeur += i[0]\n",
      "    knapsack.append( i )\n",
      "print(\"Encombrement :\", encombrement)\n",
      "print(\"Valeur :\", valeur)\n",
      "print(knapsack)"
     ],
     "language": "python",
     "metadata": {},
     "outputs": [
      {
       "output_type": "stream",
       "stream": "stdout",
       "text": [
        "Encombrement : 72\n",
        "Valeur : 287\n",
        "[(13, 1), (12, 1), (10, 1), (15, 2), (11, 2), (15, 3), (15, 3), (5, 1), (10, 2), (10, 2), (14, 3), (14, 3), (14, 3), (9, 2), (13, 3), (13, 3), (4, 1), (15, 4), (9, 3), (14, 5), (8, 3), (5, 2), (5, 2), (12, 6), (8, 4), (6, 3), (4, 2), (4, 2)]\n"
       ]
      }
     ],
     "prompt_number": 7
    },
    {
     "cell_type": "markdown",
     "metadata": {},
     "source": [
      "### G\u00e9n\u00e9ralisation de l'algorithme glouton\n",
      "Il est possible de cr\u00e9er une fonction compatible avec diverses variantes de l'algorithme glouton. Pour des raisons pratiques on travaillera d\u00e9sormais sur les indices des objets (ce qui \u00e9vite les probl\u00e8mes en cas de doublons)."
     ]
    },
    {
     "cell_type": "code",
     "collapsed": false,
     "input": [
      "def algo_glouton(label, mykey):\n",
      "    global items\n",
      "    items2 = list(range(len(items)))\n",
      "    items2.sort(key = lambda x: mykey( items[x] ))\n",
      "    encombrement, valeur = 0, 0\n",
      "    knapsack = []\n",
      "    while len(items2) > 0 and encombrement +  items[items2[-1]][1] <= 75:\n",
      "        i = items2.pop()\n",
      "        encombrement += items[i][1]\n",
      "        valeur += items[i][0]\n",
      "        knapsack.append( i )\n",
      "    print(label)\n",
      "    print(\"    Encombrement :\", encombrement)\n",
      "    print(\"    Valeur :\", valeur)\n",
      "    return knapsack\n",
      "\n",
      "# Tests\n",
      "s1 = algo_glouton(\"Algorithme glouton (1)\", lambda i: i[0])\n",
      "print(s1)\n",
      "print(\"\")\n",
      "s2 = algo_glouton(\"Algorithme glouton (2)\", lambda i: -i[1])\n",
      "print(s2)\n",
      "print(\"\")\n",
      "s3 = algo_glouton(\"Algorithme glouton (3)\", lambda i: i[0]/i[1])\n",
      "print(s3)"
     ],
     "language": "python",
     "metadata": {},
     "outputs": [
      {
       "output_type": "stream",
       "stream": "stdout",
       "text": [
        "Algorithme glouton (1)\n",
        "    Encombrement : 66\n",
        "    Valeur : 120\n",
        "[91, 89, 77, 70, 67, 56, 26, 25]\n",
        "\n",
        "Algorithme glouton (2)\n",
        "    Encombrement : 73\n",
        "    Valeur : 257\n",
        "[85, 72, 41, 38, 14, 90, 89, 87, 61, 55, 54, 49, 39, 24, 18, 15, 10, 7, 2, 94, 86, 83, 77, 75, 70, 65, 58, 52, 35, 28, 6, 74]\n",
        "\n",
        "Algorithme glouton (3)\n",
        "    Encombrement : 72\n",
        "    Valeur : 287\n",
        "[38, 85, 14, 89, 87, 77, 70, 41, 15, 10, 75, 52, 6, 24, 58, 35, 72, 67, 94, 31, 86, 90, 39, 88, 71, 65, 61, 55]\n"
       ]
      }
     ],
     "prompt_number": 8
    },
    {
     "cell_type": "markdown",
     "metadata": {},
     "source": [
      "#### Remarque sur l'utilisation d'un second crit\u00e8re de tri\n",
      "Il est souvent possible de hi\u00e9rarchiser deux crit\u00e8res de tri : en cas d'\u00e9galit\u00e9 sur le premier crit\u00e8re, le second permet de trancher. Si l'on reprend la seconde variante de l'algorithme de tri, il pourrait \u00eatre judicieux de trier selon l'encombrement dans un premier temps puis _en cas d'\u00e9galit\u00e9_ sur la valeur. L'astuce consiste \u00e0 cr\u00e9er une clef qui retourne une valeur dont la partie enti\u00e8re est fonction du premier crit\u00e8re et la partie d\u00e9cimale fonction du second crit\u00e8re."
     ]
    },
    {
     "cell_type": "code",
     "collapsed": false,
     "input": [
      "s2b = algo_glouton(\"Algorithme glouton (2b)\", lambda i: - (i[1] + 1/(i[0]+1)))\n",
      "print(s2b)\n",
      "print()\n",
      "print(\"Observer comment le remplissage se fait ici :\")\n",
      "print( list(map( lambda x: items[x], s2b ) ))"
     ],
     "language": "python",
     "metadata": {},
     "outputs": [
      {
       "output_type": "stream",
       "stream": "stdout",
       "text": [
        "Algorithme glouton (2b)\n",
        "    Encombrement : 73\n",
        "    Valeur : 271\n",
        "[38, 85, 14, 41, 72, 89, 87, 15, 10, 24, 90, 39, 61, 55, 18, 54, 7, 2, 49, 77, 70, 75, 52, 6, 58, 35, 94, 86, 65, 83, 28, 67]\n",
        "\n",
        "Observer comment le remplissage se fait ici :\n",
        "[(13, 1), (12, 1), (10, 1), (5, 1), (4, 1), (15, 2), (11, 2), (10, 2), (10, 2), (9, 2), (5, 2), (5, 2), (4, 2), (4, 2), (4, 2), (3, 2), (2, 2), (2, 2), (1, 2), (15, 3), (15, 3), (14, 3), (14, 3), (14, 3), (13, 3), (13, 3), (9, 3), (8, 3), (6, 3), (4, 3), (2, 3), (15, 4)]\n"
       ]
      }
     ],
     "prompt_number": 9
    },
    {
     "cell_type": "markdown",
     "metadata": {},
     "source": [
      "### M\u00e9thodes dynamiques\n",
      "On recourt d\u00e9sormais \u00e0 des algorithmes dynamiques : une version initiale du sac est donn\u00e9e, puis des modifications al\u00e9atoires plus ou moins contr\u00f4l\u00e9es sont op\u00e9r\u00e9es en esp\u00e9rant am\u00e9liorer la valeur du sac."
     ]
    },
    {
     "cell_type": "markdown",
     "metadata": {},
     "source": [
      "#### M\u00e9thode dynamique na\u00efve\n",
      "On se contente ici de retirer al\u00e9atoirement trois objets et de remplir ensuite le sac \u00e0 ras-bord en esp\u00e9rant am\u00e9liorer le sac."
     ]
    },
    {
     "cell_type": "code",
     "collapsed": false,
     "input": [
      "# on travaille d\u00e9sormais sur les indices des objets dans la liste 'item'\n",
      "nbr = len(items)\n",
      "\n",
      "# initialisation \u00e0 l'aide de l'algorithme glouton\n",
      "items2 = list(range(nbr))\n",
      "items2.sort(key = lambda i: items[i][0]/items[i][1])\n",
      "encombrement, valeur = 0, 0\n",
      "s = []\n",
      "while encombrement + items[items2[-1]][1] <= 75 and len(items2) > 0:\n",
      "    i = items2.pop()\n",
      "    encombrement += items[i][1]\n",
      "    valeur += items[i][0]\n",
      "    s.append( i )\n",
      "encombrement = sum(map(lambda i: items[i][1], s))\n",
      "valeur = sum(map(lambda i: items[i][0], s))\n",
      "print(\"Encombrement initial :\", encombrement)\n",
      "print(\"Valeur initiale :\", valeur)\n",
      "      \n",
      "# it\u00e9ration sur 100000 tentatives d'am\u00e9lioration\n",
      "for i in range(100000):\n",
      "    # on garde une copie du sac actuel\n",
      "    copy_s, copy_valeur, copy_encombrement = list(s), valeur, encombrement\n",
      "    size = len(s)\n",
      "    # on retire trois \u00e9l\u00e9ments\n",
      "    rem = npr.choice(s, 3, replace=False)\n",
      "    for e in rem:\n",
      "        encombrement -= items[e][1]\n",
      "        valeur -= items[e][0]\n",
      "        s.remove( e )\n",
      "    # on remplit al\u00e9atoirement autant que possible\n",
      "    while True:\n",
      "        e = npr.randint(0, nbr)\n",
      "        if e not in s:\n",
      "            if encombrement + items[e][1] <= 75:\n",
      "                s.append(e)\n",
      "                encombrement += items[e][1]\n",
      "                valeur += items[e][0]\n",
      "            else:\n",
      "                break\n",
      "    if valeur < copy_valeur:\n",
      "        s, valeur, encombrement = copy_s, copy_valeur, copy_encombrement\n",
      "    else:\n",
      "        print(\"Nouvelle valeur :\", valeur, \"(\u00e9tape \"+str(i)+\")\")\n",
      "\n",
      "knapsack_MC = s\n",
      "print( list(map(lambda n: items[int(n)], knapsack_MC)) )"
     ],
     "language": "python",
     "metadata": {},
     "outputs": [
      {
       "output_type": "stream",
       "stream": "stdout",
       "text": [
        "Encombrement initial : 72\n",
        "Valeur initiale : 287\n",
        "Nouvelle valeur : 287 (\u00e9tape 156)\n",
        "Nouvelle valeur :"
       ]
      },
      {
       "output_type": "stream",
       "stream": "stdout",
       "text": [
        " 288 (\u00e9tape 583)\n",
        "Nouvelle valeur :"
       ]
      },
      {
       "output_type": "stream",
       "stream": "stdout",
       "text": [
        " 288 (\u00e9tape 15209)\n",
        "Nouvelle valeur :"
       ]
      },
      {
       "output_type": "stream",
       "stream": "stdout",
       "text": [
        " 288 (\u00e9tape 49493)\n",
        "Nouvelle valeur :"
       ]
      },
      {
       "output_type": "stream",
       "stream": "stdout",
       "text": [
        " 288 (\u00e9tape 67833)\n",
        "Nouvelle valeur :"
       ]
      },
      {
       "output_type": "stream",
       "stream": "stdout",
       "text": [
        " 289 (\u00e9tape 70757)\n",
        "Nouvelle valeur :"
       ]
      },
      {
       "output_type": "stream",
       "stream": "stdout",
       "text": [
        " 292 (\u00e9tape 73650)\n",
        "Nouvelle valeur :"
       ]
      },
      {
       "output_type": "stream",
       "stream": "stdout",
       "text": [
        " 292 (\u00e9tape 97814)\n",
        "[(13, 1), (12, 1), (10, 1), (11, 2), (15, 3), (15, 3), (10, 2), (14, 3), (14, 3), (9, 2), (13, 3), (4, 1), (15, 4), (12, 6), (6, 3), (5, 1), (8, 3), (13, 3), (10, 2), (14, 7), (14, 5), (7, 4), (5, 2), (5, 2), (15, 2), (14, 3), (9, 3)]"
       ]
      },
      {
       "output_type": "stream",
       "stream": "stdout",
       "text": [
        "\n"
       ]
      }
     ],
     "prompt_number": 10
    },
    {
     "cell_type": "markdown",
     "metadata": {},
     "source": [
      "#### M\u00e9thode g\u00e9n\u00e9tique par croisement\n",
      "On part de dix r\u00e9partitions al\u00e9atoires ; \u00e0 chaque g\u00e9n\u00e9ration, on croise \"g\u00e9n\u00e9tiquement\" chaque individu avec les autres. Le croisement s'effectue comme suit : on proc\u00e8de \u00e0 l'union des ensembles constitu\u00e9s par chacune des deux r\u00e9partitions, puis on \u00e9limine al\u00e9atoirement des objets de cette union jusqu'\u00e0 r\u00e9tablir un encombrement convenable. \u00c0 chaque g\u00e9n\u00e9ration, seuls les dix meilleurs individus sont conserv\u00e9s. Afin de limiter la \"consangunit\u00e9\" qui tend \u00e0 rapidement \u00e9liminer la diversit\u00e9 \"g\u00e9n\u00e9tique\" de la population, on proc\u00e8de \u00e0 une seconde tentative : dix tentatives sont effectu\u00e9es ; le \"vainqueur\" est \u00e0 chaque fois mis de c\u00f4t\u00e9 ; puis les dix vainqueurs sont rassembl\u00e9s en une nouvelle population et une ultime \u00e9volution est simil\u00e9e."
     ]
    },
    {
     "cell_type": "code",
     "collapsed": false,
     "input": [
      "# construction d'une \"population\" de x individus al\u00e9atoires\n",
      "def random_pool(x):\n",
      "  pool = []\n",
      "  for i in range(x):\n",
      "    knapsack = []\n",
      "    encombrement, valeur = 0, 0\n",
      "    while True:\n",
      "      n = npr.randint(0, len(items))\n",
      "      if n in knapsack:\n",
      "        continue\n",
      "      if encombrement + items[n][1] > 75:\n",
      "        break\n",
      "      knapsack.append(n)\n",
      "      encombrement += items[n][1]\n",
      "      valeur += items[n][0]\n",
      "    pool.append( ( knapsack, valeur) )\n",
      "    return pool\n",
      "\n",
      "# \u00e9volution d'une population sur g g\u00e9n\u00e9rations\n",
      "def evolve(pool, g):\n",
      "  for gen in range(g):\n",
      "    for i in range(len(pool)-1):\n",
      "      for j in range(i+1, len(pool)):\n",
      "        a, aval = set(pool[i][0]), pool[i][1]\n",
      "        b, bval = set(pool[j][0]), pool[j][1]\n",
      "        # une mutation al\u00e9atoire est introduite au moment du croisement\n",
      "        d = list( a.union(b).union({npr.randint(0,len(items))}) )\n",
      "        denc = sum( map( lambda n: items[n][1], d) )\n",
      "        while denc > 75:\n",
      "          n = npr.randint(0, len(d))\n",
      "          denc -= items[d.pop(n)][1]\n",
      "        pool.append( (d, sum(map( lambda n: items[n][0], d))) )\n",
      "    pool.sort(key=lambda x: x[1])\n",
      "    pool = pool[-10:]\n",
      "  return(pool[-1])\n",
      "\n",
      "print(\"Utilisation directe\")\n",
      "e = evolve( random_pool(10), 20 )\n",
      "print(\"Score :\", e[1])\n",
      "print(e[0])\n",
      "\n",
      "print()\n",
      "print(\"Utilisation \u00e9labor\u00e9e\")\n",
      "mypool = []\n",
      "for i in range(10):\n",
      "  rp = random_pool(10)\n",
      "  mypool.append( evolve(rp, 20) )\n",
      "e = evolve( mypool, 20 )\n",
      "print(\"Score :\", e[1])\n",
      "print(e[0])"
     ],
     "language": "python",
     "metadata": {},
     "outputs": [
      {
       "output_type": "stream",
       "stream": "stdout",
       "text": [
        "Utilisation directe\n",
        "Score : 116\n",
        "[85, 28, 58, 43, 46, 84, 90, 49, 55, 1, 11, 2, 18, 14, 65, 70]\n",
        "\n",
        "Utilisation \u00e9labor\u00e9e\n",
        "Score :"
       ]
      },
      {
       "output_type": "stream",
       "stream": "stdout",
       "text": [
        " 293\n",
        "[65, 67, 6, 70, 71, 72, 10, 75, 77, 14, 15, 18, 85, 86, 87, 24, 89, 90, 94, 31, 35, 38, 39, 41, 44, 52, 55, 58, 61]\n"
       ]
      }
     ],
     "prompt_number": 11
    },
    {
     "cell_type": "markdown",
     "metadata": {},
     "source": [
      "#### Algorithme glouton bas\u00e9 sur une clef cr\u00e9\u00e9e dynamiquement\n",
      "On proc\u00e8de \u00e0 100,000 r\u00e9partitions al\u00e9atoires et l'on pond\u00e8re chaque objet par la somme des valeurs des r\u00e9partitions dans lesquelles il appara\u00eet (intuitivement : plus un objet figure dans des bonnes r\u00e9partitions plus on augmente son coefficient). Cette pond\u00e9ration sert ensuite de clef de tri pour l'algorithme glouton. On observera de quelle fa\u00e7on cette clef permet de parvenir \u00e0 un bien meilleur score que n'importe laquelle des 100,000 r\u00e9partitions al\u00e9atoires."
     ]
    },
    {
     "cell_type": "code",
     "collapsed": false,
     "input": [
      "mykeys = [0] * len(items)\n",
      "best_score = 0\n",
      "for i in range(100000):\n",
      "  knapsack = []\n",
      "  encombrement, valeur = 0, 0\n",
      "  while True:\n",
      "    n = npr.randint(0, len(items))\n",
      "    if n in knapsack:\n",
      "      continue\n",
      "    if encombrement + items[n][1] > 75:\n",
      "      break\n",
      "    knapsack.append(n)\n",
      "    encombrement += items[n][1]\n",
      "    valeur += items[n][0]\n",
      "  best_score = max(best_score, valeur)\n",
      "  for e in knapsack:\n",
      "    mykeys[e] += valeur\n",
      "s4 = algo_glouton(\"Algorithme glouton (4)\", lambda i: mykeys[items.index(i)])\n",
      "print(\"Comparer au (relativement m\u00e9diocre) meilleur score rencontr\u00e9 lors de la phase initiale :\",best_score)\n",
      "print(s4)"
     ],
     "language": "python",
     "metadata": {},
     "outputs": [
      {
       "output_type": "stream",
       "stream": "stdout",
       "text": [
        "Algorithme glouton (4)\n",
        "    Encombrement : 74\n",
        "    Valeur : 290\n",
        "Comparer au (relativement m\u00e9diocre) meilleur score rencontr\u00e9 lors de la phase initiale : 175\n",
        "[38, 89, 85, 77, 70, 75, 52, 6, 14, 58, 35, 67, 87, 31, 24, 15, 10, 94, 72, 41, 90, 39, 88, 65, 86, 61, 55, 18, 9]\n"
       ]
      }
     ],
     "prompt_number": 12
    },
    {
     "cell_type": "markdown",
     "metadata": {},
     "source": [
      "*Trac\u00e9 des clef cr\u00e9\u00e9es dynamiquement ci-dessus.* On trace la valeur des clefs pr\u00e9c\u00e9demment cr\u00e9\u00e9es \u00e0 l'aide de d\u00e9grad\u00e9s de couleurs. Plus la couleur est claire, mieux l'objet correspondant est jug\u00e9 important. Les parties noires indiquent qu'aucun objet correspondant n'existe. On constate qu'un objet peu encombrant a tendance \u00e0 rester plus int\u00e9ressant qu'un objet de valeur plus \u00e9lev\u00e9e mais trop encombrant."
     ]
    },
    {
     "cell_type": "code",
     "collapsed": false,
     "input": [
      "Z = np.ones( (15,15) ) * min(mykeys)\n",
      "for i in range(len(items)):\n",
      "    Z[ items[i][1]-1, items[i][0]-1 ] = mykeys[i]\n",
      "plt.pcolor(Z, cmap=\"hot\", vmin=abs(Z).min(), vmax=abs(Z).max())\n",
      "plt.xlabel(\"valeur\")\n",
      "plt.ylabel(\"encombrement\")\n",
      "plt.gca().spines['right'].set_visible(False)\n",
      "plt.gca().spines['top'].set_visible(False)\n",
      "plt.gca().yaxis.set_ticks_position('left')\n",
      "plt.gca().xaxis.set_ticks_position('bottom')"
     ],
     "language": "python",
     "metadata": {},
     "outputs": [
      {
       "metadata": {},
       "output_type": "display_data",
       "png": "[encoded data removed]",
       "text": [
        "<matplotlib.figure.Figure at 0x7f538355c1d0>"
       ]
      }
     ],
     "prompt_number": 13
    },
    {
     "cell_type": "markdown",
     "metadata": {},
     "source": [
      "### Finitions triviales\n",
      "Deux types de finitions triviales sont envisageables : compl\u00e9ter le remplissage s'il reste un peu de place (par exemple \u00e0 l'aide de la variante 2b de l'algorithme glouton ci-dessus) ; puis v\u00e9rifier pour chaque objet du sac s'il n'est pas possible de le remplacer par un objet d'encombrement identique et de valeur sup\u00e9rieure."
     ]
    },
    {
     "cell_type": "code",
     "collapsed": false,
     "input": [
      "def finition(knapsack):\n",
      "    k2 = list(knapsack)\n",
      "    k2.sort( key = lambda x: items[x][0], reverse = True )\n",
      "    encombrement = sum( map(lambda i: items[i][1], k2) )\n",
      "    reste = list(set(range(len(items))).difference(set(k2)))\n",
      "    reste.sort( key = lambda i: -(items[i][1] + 1/(items[i][0]+1)) )\n",
      "    while len(reste) > 0 and encombrement + items[reste[-1]][1] <= 75:\n",
      "        i = reste.pop()\n",
      "        encombrement += items[i][1]\n",
      "        k2.append( i )\n",
      "    for i in range(len(k2)):\n",
      "        l = list(filter(lambda x: items[x][1] == items[k2[i]][1], reste))\n",
      "        if len(l) > 0:\n",
      "            l.sort(key = lambda x: items[x][0])\n",
      "            if items[l[-1]][0] > items[k2[i]][0]:\n",
      "                reste.remove(l[-1])\n",
      "                reste.append(k2[i])\n",
      "                k2[i] = l[-1]\n",
      "    return k2\n",
      "\n",
      "print(\"Premier test\")\n",
      "print(\"============\")\n",
      "test = s3\n",
      "print( test )\n",
      "print (\"  Valeur :\",sum(map(lambda i: items[i][0], test)))\n",
      "print (\"  Encombrement :\",sum(map(lambda i: items[i][1], test)))\n",
      "test_f = finition(test)\n",
      "print(test_f)\n",
      "print (\"  Valeur :\",sum(map(lambda i: items[i][0], test_f)))\n",
      "print (\"  Encombrement :\",sum(map(lambda i: items[i][1], test_f)))\n",
      "print()\n",
      "print(\"Second test\")\n",
      "print(\"===========\")\n",
      "test = s4\n",
      "print( test )\n",
      "print (\"  Valeur :\",sum(map(lambda i: items[i][0], test)))\n",
      "print (\"  Encombrement :\",sum(map(lambda i: items[i][1], test)))\n",
      "test_f = finition(test)\n",
      "print(test_f)\n",
      "print (\"  Valeur :\",sum(map(lambda i: items[i][0], test_f)))\n",
      "print (\"  Encombrement :\",sum(map(lambda i: items[i][1], test_f)))"
     ],
     "language": "python",
     "metadata": {},
     "outputs": [
      {
       "output_type": "stream",
       "stream": "stdout",
       "text": [
        "Premier test\n",
        "============\n",
        "[38, 85, 14, 89, 87, 77, 70, 41, 15, 10, 75, 52, 6, 24, 58, 35, 72, 67, 94, 31, 86, 90, 39, 88, 71, 65, 61, 55]\n",
        "  Valeur : 287\n",
        "  Encombrement : 72\n",
        "[89, 77, 70, 67, 75, 52, 6, 31, 38, 58, 35, 85, 88, 87, 14, 15, 10, 24, 94, 86, 71, 65, 41, 90, 39, 72, 61, 55, 18]\n",
        "  Valeur : 291\n",
        "  Encombrement : 74\n",
        "\n",
        "Second test\n",
        "===========\n",
        "[38, 89, 85, 77, 70, 75, 52, 6, 14, 58, 35, 67, 87, 31, 24, 15, 10, 94, 72, 41, 90, 39, 88, 65, 86, 61, 55, 18, 9]\n",
        "  Valeur : 290\n",
        "  Encombrement : 74\n",
        "[89, 77, 70, 67, 75, 52, 6, 31, 38, 58, 35, 85, 88, 87, 14, 15, 10, 24, 94, 86, 71, 65, 41, 90, 39, 72, 61, 55, 18]\n",
        "  Valeur : 291\n",
        "  Encombrement : 74\n"
       ]
      }
     ],
     "prompt_number": 20
    },
    {
     "cell_type": "code",
     "collapsed": false,
     "input": [],
     "language": "python",
     "metadata": {},
     "outputs": [],
     "prompt_number": 14
    }
   ],
   "metadata": {}
  }
 ]
}